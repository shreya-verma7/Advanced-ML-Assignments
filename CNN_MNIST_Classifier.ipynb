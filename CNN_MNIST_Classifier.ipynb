{
  "nbformat": 4,
  "nbformat_minor": 0,
  "metadata": {
    "kernelspec": {
      "display_name": "Tensorflow (GPU)",
      "language": "python",
      "name": "py3.6-tfgpu"
    },
    "language_info": {
      "codemirror_mode": {
        "name": "ipython",
        "version": 3
      },
      "file_extension": ".py",
      "mimetype": "text/x-python",
      "name": "python",
      "nbconvert_exporter": "python",
      "pygments_lexer": "ipython3",
      "version": "3.6.6"
    },
    "colab": {
      "name": " CNN-MNIST-Classifier.ipynb",
      "provenance": [],
      "collapsed_sections": []
    }
  },
  "cells": [
    {
      "cell_type": "markdown",
      "metadata": {
        "id": "Yh_3FJUBi1oC"
      },
      "source": [
        "## The Task for the AI\n",
        "\n",
        "Our goal is to construct and train an artificial neural network on thousands of images of handwritten digits so that it may successfully identify others when presented. The data that will be incorporated is the MNIST database which contains 60,000 images for training and 10,000 test images. We will use the Keras Python API with TensorFlow as the backend."
      ]
    },
    {
      "cell_type": "markdown",
      "metadata": {
        "id": "T-fdFoUvi1oC"
      },
      "source": [
        "<img src=\"https://github.com/AviatorMoser/keras-mnist-tutorial/blob/master/mnist.png?raw=1\" >"
      ]
    },
    {
      "cell_type": "markdown",
      "metadata": {
        "id": "fFMlmHYIi1oD"
      },
      "source": [
        "## Prerequisite Python Modules\n",
        "\n",
        "First, some software needs to be loaded into the Python environment."
      ]
    },
    {
      "cell_type": "code",
      "metadata": {
        "id": "mokpBQBDi1oD"
      },
      "source": [
        "import numpy as np                   # advanced math library\n",
        "import matplotlib.pyplot as plt      # MATLAB like plotting routines\n",
        "import random                        # for generating random numbers\n",
        "\n",
        "from keras.datasets import mnist     # MNIST dataset is included in Keras\n",
        "from keras.models import Sequential  # Model type to be used\n",
        "\n",
        "from keras.layers.core import Dense, Dropout, Activation # Types of layers to be used in our model\n",
        "from keras.utils import np_utils                         # NumPy related tools"
      ],
      "execution_count": null,
      "outputs": []
    },
    {
      "cell_type": "markdown",
      "metadata": {
        "id": "B6X_QNP0i1oD"
      },
      "source": [
        "## Loading Training Data\n",
        "\n",
        "The MNIST dataset is conveniently bundled within Keras, and we can easily analyze some of its features in Python."
      ]
    },
    {
      "cell_type": "code",
      "metadata": {
        "id": "qfEpwvAfi1oE",
        "colab": {
          "base_uri": "https://localhost:8080/"
        },
        "outputId": "5561ac9f-ecba-4bcd-ccb5-bbda9716803c"
      },
      "source": [
        "# The MNIST data is split between 60,000 28 x 28 pixel training images and 10,000 28 x 28 pixel images\n",
        "(X_train, y_train), (X_test, y_test) = mnist.load_data()\n",
        "\n",
        "print(\"X_train shape\", X_train.shape)\n",
        "print(\"y_train shape\", y_train.shape)\n",
        "print(\"X_test shape\", X_test.shape)\n",
        "print(\"y_test shape\", y_test.shape)"
      ],
      "execution_count": null,
      "outputs": [
        {
          "output_type": "stream",
          "text": [
            "X_train shape (60000, 28, 28)\n",
            "y_train shape (60000,)\n",
            "X_test shape (10000, 28, 28)\n",
            "y_test shape (10000,)\n"
          ],
          "name": "stdout"
        }
      ]
    },
    {
      "cell_type": "markdown",
      "metadata": {
        "id": "XMQNXkdXi1oE"
      },
      "source": [
        "Using matplotlib, we can plot some sample images from the training set directly into this Jupyter Notebook."
      ]
    },
    {
      "cell_type": "code",
      "metadata": {
        "id": "y5sGYYWji1oE",
        "colab": {
          "base_uri": "https://localhost:8080/",
          "height": 657
        },
        "outputId": "ee90b501-61b2-4f25-be35-3f99f5094359"
      },
      "source": [
        "plt.rcParams['figure.figsize'] = (9,9) # Make the figures a bit bigger\n",
        "\n",
        "for i in range(9):\n",
        "    plt.subplot(3,3,i+1)\n",
        "    num = random.randint(0, len(X_train))\n",
        "    plt.imshow(X_train[num], cmap='gray', interpolation='none')\n",
        "    plt.title(\"Class {}\".format(y_train[num]))\n",
        "    \n",
        "plt.tight_layout()"
      ],
      "execution_count": null,
      "outputs": [
        {
          "output_type": "display_data",
          "data": {
            "image/png": "[encoded data removed]",
            "text/plain": [
              "<Figure size 648x648 with 9 Axes>"
            ]
          },
          "metadata": {
            "tags": [],
            "needs_background": "light"
          }
        }
      ]
    },
    {
      "cell_type": "markdown",
      "metadata": {
        "id": "wgO1Oowzi1oE"
      },
      "source": [
        "Let's examine a single digit a little closer, and print out the array representing the last digit."
      ]
    },
    {
      "cell_type": "code",
      "metadata": {
        "id": "47s7pUR6i1oF",
        "colab": {
          "base_uri": "https://localhost:8080/"
        },
        "outputId": "46fe1c08-2afa-42b3-d317-2087f08a08a6"
      },
      "source": [
        "# just a little function for pretty printing a matrix\n",
        "def matprint(mat, fmt=\"g\"):\n",
        "    col_maxes = [max([len((\"{:\"+fmt+\"}\").format(x)) for x in col]) for col in mat.T]\n",
        "    for x in mat:\n",
        "        for i, y in enumerate(x):\n",
        "            print((\"{:\"+str(col_maxes[i])+fmt+\"}\").format(y), end=\"  \")\n",
        "        print(\"\")\n",
        "\n",
        "# now print!        \n",
        "matprint(X_train[num])"
      ],
      "execution_count": null,
      "outputs": [
        {
          "output_type": "stream",
          "text": [
            "0  0  0  0  0  0  0    0    0    0    0    0    0    0    0    0    0    0   0  0  0  0  0  0  0  0  0  0  \n",
            "0  0  0  0  0  0  0    0    0    0    0    0    0    0    0    0    0    0   0  0  0  0  0  0  0  0  0  0  \n",
            "0  0  0  0  0  0  0    0    0    0    0    0    0    0    0    0    0    0   0  0  0  0  0  0  0  0  0  0  \n",
            "0  0  0  0  0  0  0    0    0    0    0    0    0    0    0    0    0    0   0  0  0  0  0  0  0  0  0  0  \n",
            "0  0  0  0  0  0  0    0    0    0    0    0    0    0    0    0    0    0   0  0  0  0  0  0  0  0  0  0  \n",
            "0  0  0  0  0  0  0    0    0    0    0    0    0    0    0    0    0    0   0  0  0  0  0  0  0  0  0  0  \n",
            "0  0  0  0  0  0  0    0    0    0    0    0  115  159  159  179   37    0   0  0  0  0  0  0  0  0  0  0  \n",
            "0  0  0  0  0  0  0    0    0    7   73  193  253  254  254  254  237   54   0  0  0  0  0  0  0  0  0  0  \n",
            "0  0  0  0  0  0  0    0    0  195  254  254  202  122   67  206  254  208   9  0  0  0  0  0  0  0  0  0  \n",
            "0  0  0  0  0  0  0    6  160  254  254  183   44    0    0   45  254  254  24  0  0  0  0  0  0  0  0  0  \n",
            "0  0  0  0  0  0  0   34  254  254  183   12    0    0    0   44  254  254  69  0  0  0  0  0  0  0  0  0  \n",
            "0  0  0  0  0  0  0  121  254  236   29    0    0    0    0   77  254  254  87  0  0  0  0  0  0  0  0  0  \n",
            "0  0  0  0  0  0  0  121  254  201    0    0    0    0   46  244  254  254  24  0  0  0  0  0  0  0  0  0  \n",
            "0  0  0  0  0  0  0   41  254  246   36    0   85  212  225  254  254  254  24  0  0  0  0  0  0  0  0  0  \n",
            "0  0  0  0  0  0  0   25  254  254   74    0  144  254  254  254  254  254  24  0  0  0  0  0  0  0  0  0  \n",
            "0  0  0  0  0  0  0    2  116  253  248  173  244  254  254  254  254  254  24  0  0  0  0  0  0  0  0  0  \n",
            "0  0  0  0  0  0  0    0    0  159  247  254  254  237  115   83  254  254  24  0  0  0  0  0  0  0  0  0  \n",
            "0  0  0  0  0  0  0    0    0    0   37  113  123   16    0   44  254  254  24  0  0  0  0  0  0  0  0  0  \n",
            "0  0  0  0  0  0  0    0    0    0    0    0    0    0    0   44  254  254  24  0  0  0  0  0  0  0  0  0  \n",
            "0  0  0  0  0  0  0    0    0    0    0    0    0    0    0   44  254  254  24  0  0  0  0  0  0  0  0  0  \n",
            "0  0  0  0  0  0  0    0    0    0    0    0    0    0    0   44  254  254  24  0  0  0  0  0  0  0  0  0  \n",
            "0  0  0  0  0  0  0    0    0    0    0    0    0    0    0   44  254  254  24  0  0  0  0  0  0  0  0  0  \n",
            "0  0  0  0  0  0  0    0    0    0    0    0    0    0    0   44  254  254  24  0  0  0  0  0  0  0  0  0  \n",
            "0  0  0  0  0  0  0    0    0    0    0    0    0    0    0   44  254  254  24  0  0  0  0  0  0  0  0  0  \n",
            "0  0  0  0  0  0  0    0    0    0    0    0    0    0    0   44  254  254  24  0  0  0  0  0  0  0  0  0  \n",
            "0  0  0  0  0  0  0    0    0    0    0    0    0    0    0   28  198  227  15  0  0  0  0  0  0  0  0  0  \n",
            "0  0  0  0  0  0  0    0    0    0    0    0    0    0    0    0    0    0   0  0  0  0  0  0  0  0  0  0  \n",
            "0  0  0  0  0  0  0    0    0    0    0    0    0    0    0    0    0    0   0  0  0  0  0  0  0  0  0  0  \n"
          ],
          "name": "stdout"
        }
      ]
    },
    {
      "cell_type": "markdown",
      "metadata": {
        "id": "44Afxthdi1oF"
      },
      "source": [
        "Each pixel is an 8-bit integer from 0-255. 0 is full black, while 255 is full white. This what we call a single-channel pixel. It's called monochrome.\n",
        "\n",
        "*Fun-fact! Your computer screen has three channels for each pixel: red, green, blue. Each of these channels also likely takes an 8-bit integer. 3 channels -- 24 bits total -- 16,777,216 possible colors!*"
      ]
    },
    {
      "cell_type": "markdown",
      "metadata": {
        "id": "Q38qNuEui1oU"
      },
      "source": [
        "## Building a \"Deep\" Convolutional Neural Network"
      ]
    },
    {
      "cell_type": "code",
      "metadata": {
        "collapsed": true,
        "id": "_ut4_8RNi1oU"
      },
      "source": [
        "# import some additional tools\n",
        "\n",
        "from keras.preprocessing.image import ImageDataGenerator\n",
        "from keras.layers import Conv2D, MaxPooling2D, ZeroPadding2D, GlobalAveragePooling2D, Flatten\n",
        "from keras.layers.normalization import BatchNormalization"
      ],
      "execution_count": null,
      "outputs": []
    },
    {
      "cell_type": "code",
      "metadata": {
        "collapsed": true,
        "id": "4Bt7Zfndi1oU"
      },
      "source": [
        "# Load the MNIST data\n",
        "(X_train,y_train),(X_test,y_test)= mnist.load_data()"
      ],
      "execution_count": null,
      "outputs": []
    },
    {
      "cell_type": "code",
      "metadata": {
        "id": "lqAL8mSSi1oU",
        "colab": {
          "base_uri": "https://localhost:8080/"
        },
        "outputId": "5bd088c8-70f8-4a40-c5b1-c30907e15289"
      },
      "source": [
        "# Again, do some formatting\n",
        "# Except we do not flatten each image into a 784-length vector because we want to perform convolutions first\n",
        "\n",
        "#add an additional dimension to represent the single-channel\n",
        "X_train = X_train.reshape(60000,28,28,1)\n",
        "X_test = X_test.reshape(10000,28,28,1)\n",
        "\n",
        "# change integers to 32-bit floating point numbers\n",
        "X_train = X_train.astype('float32')\n",
        "X_test = X_test.astype('float32')\n",
        "\n",
        "# normalize each value for each pixel for the entire vector for each input\n",
        "X_train /= 255\n",
        "X_test /= 255\n",
        "\n",
        "print(\"Training matrix shape\", X_train.shape)\n",
        "print(\"Testing matrix shape\", X_test.shape)"
      ],
      "execution_count": null,
      "outputs": [
        {
          "output_type": "stream",
          "text": [
            "Training matrix shape (60000, 28, 28, 1)\n",
            "Testing matrix shape (10000, 28, 28, 1)\n"
          ],
          "name": "stdout"
        }
      ]
    },
    {
      "cell_type": "code",
      "metadata": {
        "collapsed": true,
        "id": "HpQ22R2Li1oV"
      },
      "source": [
        "# one-hot format classes for labels\n",
        "number_of_classes = 10\n",
        "Y_train = np_utils.to_categorical(y_train,number_of_classes, dtype='float32')\n",
        "Y_test = np_utils.to_categorical(y_test,number_of_classes, dtype='float32')"
      ],
      "execution_count": null,
      "outputs": []
    },
    {
      "cell_type": "markdown",
      "metadata": {
        "id": "WBqvpZX3i1oH"
      },
      "source": [
        "We then modify our classes (unique digits) to be in the one-hot format, i.e.\n",
        "\n",
        "```\n",
        "0 -> [1, 0, 0, 0, 0, 0, 0, 0, 0]\n",
        "1 -> [0, 1, 0, 0, 0, 0, 0, 0, 0]\n",
        "2 -> [0, 0, 1, 0, 0, 0, 0, 0, 0]\n",
        "etc.\n",
        "```\n",
        "\n",
        "If the final output of our network is very close to one of these classes, then it is most likely that class. For example, if the final output is:\n",
        "\n",
        "```\n",
        "[0, 0.94, 0, 0, 0, 0, 0.06, 0, 0]\n",
        "```\n",
        "then it is most probable that the image is that of the digit `1`."
      ]
    },
    {
      "cell_type": "code",
      "metadata": {
        "collapsed": true,
        "id": "vPhQ-AEPi1oV"
      },
      "source": [
        "model = Sequential()                                 # Linear stacking of layers\n",
        "\n",
        "# Convolution Layer 1\n",
        "# 32 different 3x3 kernels -- so 32 feature maps\n",
        "# normalize each feature map before activation\n",
        "# activation\n",
        "\n",
        "model.add(Conv2D(32,(3,3),input_shape=(28,28,1)))\n",
        "model.add(BatchNormalization(axis=-1))\n",
        "convLayer01 = Activation('relu')\n",
        "\n",
        "model.add(convLayer01)\n",
        "\n",
        "# Convolution Layer 2\n",
        "# 32 different 3x3 kernels -- so 32 feature maps\n",
        "# normalize each feature map before activation\n",
        "# activation\n",
        "# Pool the max values over a 2x2 kernel\n",
        "\n",
        "model.add(Conv2D(32,(3,3)))\n",
        "model.add(BatchNormalization(axis=-1))\n",
        "model.add(Activation('relu'))\n",
        "convLayer02 = MaxPooling2D(pool_size=(2,2))\n",
        "\n",
        "\n",
        "model.add(convLayer02)\n",
        "\n",
        "# Convolution Layer 3\n",
        "# 64 different 3x3 kernels -- so 64 feature maps\n",
        "# normalize each feature map before activation\n",
        "# activation\n",
        "model.add(Conv2D(64,(3,3)))\n",
        "model.add(BatchNormalization(axis=-1))\n",
        "convLayer03 =Activation('relu')\n",
        "model.add(convLayer03)\n",
        "\n",
        "# Convolution Layer 4\n",
        "# 64 different 3x3 kernels -- so 64 feature maps\n",
        "# normalize each feature map before activation\n",
        "# activation\n",
        "# Pool the max values over a 2x2 kernel\n",
        "\n",
        "model.add(Conv2D(64,(3,3)))\n",
        "model.add(BatchNormalization(axis=-1))\n",
        "model.add(Activation('relu'))\n",
        "convLayer04= MaxPooling2D(pool_size=(2,2))\n",
        "\n",
        "\n",
        "model.add(convLayer04)\n",
        "\n",
        "# Flatten final 4x4x64 output matrix into a 1024-length vector\n",
        "\n",
        "model.add(Flatten())\n",
        "\n",
        "\n",
        "# Fully Connected Layer 5\n",
        "# 512 FCN nodes\n",
        "# normalization\n",
        "# activation\n",
        "model.add(Dense(512))\n",
        "model.add(BatchNormalization())\n",
        "model.add(Activation('relu'))\n",
        "\n",
        "\n",
        "# Fully Connected Layer 6                       \n",
        "# 20% dropout of randomly selected nodes\n",
        "# final 10 FCN nodes\n",
        "# softmax activation\n",
        "\n",
        "model.add(Dropout(0.2))\n",
        "model.add(Dense(10))\n",
        "model.add(Activation('softmax'))"
      ],
      "execution_count": null,
      "outputs": []
    },
    {
      "cell_type": "code",
      "metadata": {
        "id": "lI5qI4ddi1oV",
        "colab": {
          "base_uri": "https://localhost:8080/"
        },
        "outputId": "f5aa15c0-6bb1-4156-a68d-490df7e53868"
      },
      "source": [
        "model.summary()"
      ],
      "execution_count": null,
      "outputs": [
        {
          "output_type": "stream",
          "text": [
            "Model: \"sequential_4\"\n",
            "_________________________________________________________________\n",
            "Layer (type)                 Output Shape              Param #   \n",
            "=================================================================\n",
            "conv2d_15 (Conv2D)           (None, 26, 26, 32)        320       \n",
            "_________________________________________________________________\n",
            "batch_normalization_17 (Batc (None, 26, 26, 32)        128       \n",
            "_________________________________________________________________\n",
            "activation_19 (Activation)   (None, 26, 26, 32)        0         \n",
            "_________________________________________________________________\n",
            "conv2d_16 (Conv2D)           (None, 24, 24, 32)        9248      \n",
            "_________________________________________________________________\n",
            "batch_normalization_18 (Batc (None, 24, 24, 32)        128       \n",
            "_________________________________________________________________\n",
            "activation_20 (Activation)   (None, 24, 24, 32)        0         \n",
            "_________________________________________________________________\n",
            "max_pooling2d_7 (MaxPooling2 (None, 12, 12, 32)        0         \n",
            "_________________________________________________________________\n",
            "conv2d_17 (Conv2D)           (None, 10, 10, 64)        18496     \n",
            "_________________________________________________________________\n",
            "batch_normalization_19 (Batc (None, 10, 10, 64)        256       \n",
            "_________________________________________________________________\n",
            "activation_21 (Activation)   (None, 10, 10, 64)        0         \n",
            "_________________________________________________________________\n",
            "conv2d_18 (Conv2D)           (None, 8, 8, 64)          36928     \n",
            "_________________________________________________________________\n",
            "batch_normalization_20 (Batc (None, 8, 8, 64)          256       \n",
            "_________________________________________________________________\n",
            "activation_22 (Activation)   (None, 8, 8, 64)          0         \n",
            "_________________________________________________________________\n",
            "max_pooling2d_8 (MaxPooling2 (None, 4, 4, 64)          0         \n",
            "_________________________________________________________________\n",
            "flatten_2 (Flatten)          (None, 1024)              0         \n",
            "_________________________________________________________________\n",
            "dense_4 (Dense)              (None, 512)               524800    \n",
            "_________________________________________________________________\n",
            "batch_normalization_21 (Batc (None, 512)               2048      \n",
            "_________________________________________________________________\n",
            "activation_23 (Activation)   (None, 512)               0         \n",
            "_________________________________________________________________\n",
            "dropout_2 (Dropout)          (None, 512)               0         \n",
            "_________________________________________________________________\n",
            "dense_5 (Dense)              (None, 10)                5130      \n",
            "_________________________________________________________________\n",
            "activation_24 (Activation)   (None, 10)                0         \n",
            "=================================================================\n",
            "Total params: 597,738\n",
            "Trainable params: 596,330\n",
            "Non-trainable params: 1,408\n",
            "_________________________________________________________________\n"
          ],
          "name": "stdout"
        }
      ]
    },
    {
      "cell_type": "code",
      "metadata": {
        "collapsed": true,
        "id": "yxql11Y3i1oV"
      },
      "source": [
        "# Compile the model Use adam for optimization \n",
        "\n",
        "model.compile(optimizer='adam', loss='categorical_crossentropy', metrics=['accuracy'], loss_weights=None, weighted_metrics=None, run_eagerly=None, steps_per_execution=None)"
      ],
      "execution_count": null,
      "outputs": []
    },
    {
      "cell_type": "code",
      "metadata": {
        "collapsed": true,
        "id": "2eEqgALyi1oV"
      },
      "source": [
        "# data augmentation prevents overfitting by slightly changing the data randomly\n",
        "# Keras has a great built-in feature to do automatic augmentation\n",
        "\n",
        "gen = ImageDataGenerator(rotation_range=8, width_shift_range=0.08, shear_range=0.3,\n",
        "                         height_shift_range=0.08, zoom_range=0.08)\n",
        "\n",
        "test_gen = ImageDataGenerator()"
      ],
      "execution_count": null,
      "outputs": []
    },
    {
      "cell_type": "code",
      "metadata": {
        "collapsed": true,
        "id": "H_eKh3i3i1oW"
      },
      "source": [
        "# We can then feed our augmented data in batches\n",
        "# This method actually results in significant memory savings\n",
        "# because we are actually LOADING the data into the network in batches before processing each batch\n",
        "\n",
        "# Before the data was all loaded into memory, but then processed in batches.\n",
        "\n",
        "train_generator = gen.flow(X_train, Y_train, batch_size=128)\n",
        "test_generator = test_gen.flow(X_test, Y_test, batch_size=128)"
      ],
      "execution_count": null,
      "outputs": []
    },
    {
      "cell_type": "code",
      "metadata": {
        "id": "zzukPfuii1oW",
        "colab": {
          "base_uri": "https://localhost:8080/"
        },
        "outputId": "5513e53c-9b36-4646-b204-11dbcfef6a37"
      },
      "source": [
        "# We can now train our model which is fed data by our batch loader\n",
        "# Steps per epoch should always be total size of the set divided by the batch size\n",
        "\n",
        "# SIGNIFICANT MEMORY SAVINGS (important for larger, deeper networks)\n",
        "\n",
        "model.fit_generator(train_generator, steps_per_epoch=60000//128, epochs=5, verbose=1, \n",
        "                    validation_data=test_generator, validation_steps=10000//128)"
      ],
      "execution_count": null,
      "outputs": [
        {
          "output_type": "stream",
          "text": [
            "/usr/local/lib/python3.7/dist-packages/tensorflow/python/keras/engine/training.py:1844: UserWarning: `Model.fit_generator` is deprecated and will be removed in a future version. Please use `Model.fit`, which supports generators.\n",
            "  warnings.warn('`Model.fit_generator` is deprecated and '\n"
          ],
          "name": "stderr"
        },
        {
          "output_type": "stream",
          "text": [
            "Epoch 1/5\n",
            "468/468 [==============================] - 180s 382ms/step - loss: 0.2942 - accuracy: 0.9060 - val_loss: 0.2837 - val_accuracy: 0.9100\n",
            "Epoch 2/5\n",
            "468/468 [==============================] - 180s 385ms/step - loss: 0.0507 - accuracy: 0.9839 - val_loss: 0.0932 - val_accuracy: 0.9681\n",
            "Epoch 3/5\n",
            "468/468 [==============================] - 180s 384ms/step - loss: 0.0401 - accuracy: 0.9875 - val_loss: 0.0270 - val_accuracy: 0.9922\n",
            "Epoch 4/5\n",
            "468/468 [==============================] - 181s 386ms/step - loss: 0.0343 - accuracy: 0.9891 - val_loss: 0.0585 - val_accuracy: 0.9813\n",
            "Epoch 5/5\n",
            "468/468 [==============================] - 181s 386ms/step - loss: 0.0272 - accuracy: 0.9913 - val_loss: 0.0430 - val_accuracy: 0.9870\n"
          ],
          "name": "stdout"
        },
        {
          "output_type": "execute_result",
          "data": {
            "text/plain": [
              "<tensorflow.python.keras.callbacks.History at 0x7ff05ccc6190>"
            ]
          },
          "metadata": {
            "tags": []
          },
          "execution_count": 47
        }
      ]
    },
    {
      "cell_type": "code",
      "metadata": {
        "id": "W5lfdq2-i1oW",
        "colab": {
          "base_uri": "https://localhost:8080/"
        },
        "outputId": "f2dd553c-5bbd-4757-b71f-8470a8b59787"
      },
      "source": [
        "score = model.evaluate(X_test, Y_test)\n",
        "print('Test score:', score[0])\n",
        "print('Test accuracy:', score[1])"
      ],
      "execution_count": null,
      "outputs": [
        {
          "output_type": "stream",
          "text": [
            "313/313 [==============================] - 8s 26ms/step - loss: 0.0429 - accuracy: 0.9870\n",
            "Test score: 0.0429474338889122\n",
            "Test accuracy: 0.9869999885559082\n"
          ],
          "name": "stdout"
        }
      ]
    }
  ]
}